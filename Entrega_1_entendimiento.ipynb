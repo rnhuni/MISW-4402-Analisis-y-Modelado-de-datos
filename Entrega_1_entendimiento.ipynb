{
 "cells": [
  {
   "cell_type": "markdown",
   "metadata": {
    "id": "YLE3Y7VOPn3G"
   },
   "source": [
    "# Entrega 1: Entendimiento de los datos"
   ]
  },
  {
   "cell_type": "markdown",
   "metadata": {
    "id": "7wFQzBv_Pn3J"
   },
   "source": [
    "## Introducción\n",
    "    Estás son las actividades realizadas para lograr el entendimiento de datos para el cliente WWImporters. El documento incluye lo siguiente:\n",
    "    0. Configuración del entorno y creación de sesión de trabajo\n",
    "    1. Perfilamiento de datos\n",
    "    2. Análisis de la calidad de datos\n",
    "    3. Conclusión del entendimiento de datos\n",
    "    \n"
   ]
  },
  {
   "cell_type": "markdown",
   "metadata": {
    "id": "dm33nuYTPn3L"
   },
   "source": [
    "## Configuración y creación de sesión de trabajo\n",
    "Se importan los paquetes requeridos para el análisis y se inicializaza la sesión de trabajo."
   ]
  },
  {
   "cell_type": "code",
   "execution_count": 7,
   "metadata": {
    "id": "gGiDdRBNPn3M"
   },
   "outputs": [],
   "source": [
    "from pyspark.sql import SparkSession\n",
    "from pyspark.sql import functions\n",
    "from pyspark.sql.types import StructType\n",
    "from pyspark import SparkContext, SparkConf, SQLContext\n",
    "from pyspark.sql.types import FloatType, StringType, IntegerType, DateType\n",
    "from pyspark.sql.functions import udf, col, length, isnan, when, count\n",
    "import pyspark.sql.functions as f\n",
    "import os \n",
    "from datetime import datetime\n",
    "from pyspark.sql import types as t\n",
    "from pandas_profiling import ProfileReport\n",
    "import matplotlib.pyplot as plt\n",
    "import numpy as np"
   ]
  },
  {
   "cell_type": "markdown",
   "metadata": {
    "id": "Tyk0YmZRPn3N"
   },
   "source": [
    "Configuración del controlador e inicio de sesion Spark"
   ]
  },
  {
   "cell_type": "code",
   "execution_count": 8,
   "metadata": {
    "id": "0r-yix1rPn3O"
   },
   "outputs": [],
   "source": [
    "path_jar_driver = 'C:\\Program Files (x86)\\MySQL\\Connector J 8.0\\mysql-connector-java-8.0.28.jar'"
   ]
  },
  {
   "cell_type": "code",
   "execution_count": 11,
   "metadata": {
    "id": "0-m3Q2MtPn3O",
    "outputId": "459f0ec2-9a36-4a36-edac-427852524d95"
   },
   "outputs": [],
   "source": [
    "#Configuración de la sesión\n",
    "#spark.stop()\n",
    "conf=SparkConf() \\\n",
    "    .set('spark.driver.extraClassPath', path_jar_driver)\n",
    "\n",
    "spark_context = SparkContext(conf=conf)\n",
    "sql_context = SQLContext(spark_context)\n",
    "spark = sql_context.sparkSession"
   ]
  },
  {
   "cell_type": "code",
   "execution_count": 12,
   "metadata": {
    "id": "0eQw66SIPn3P"
   },
   "outputs": [],
   "source": [
    "# Si quiere practicar la conexion con el servidor de base de datos:\n",
    "db_connection_string = 'jdbc:mysql://157.253.236.116:8080/WWImportersTransactional'\n",
    "# El usuario es su estudiante _i asignado y su contraseña la encontrará en el archivo excel de Coursera \n",
    "db_user = 'Estudiante_58_202413'\n",
    "db_psswd = 'aabb1122'\n",
    "\n",
    "PATH='./'"
   ]
  },
  {
   "cell_type": "markdown",
   "metadata": {
    "id": "P1nkSAn5Pn3Q"
   },
   "source": [
    "## Perfilamiento de los datos\n",
    "El perfilamiento desarrollado aborda los siguientes aspectos: **entendimiento general** de los datos compartidos, validación de **reglas de negocio**, **análisis descriptivo** utilizando estadística descriptiva y diagramas para la visualización de los datos .\n"
   ]
  },
  {
   "cell_type": "markdown",
   "metadata": {
    "id": "p6KvbuvpPn3Q"
   },
   "source": [
    "### Información dada por la organización relacionada con los datos\n",
    "El grupo de consultores de analitica descriptiva de Wide World Importers asegura que las tablas Grupo de compras, Ciudades, Colores, Paises, Clientes, Categorias de clientes, Paquetes, Estados y provincias, Productos y Personas ya fueron perfiladas y corregidos; sin embargo le recomiendan revisar el diccionario suministrado dado que todas las tablas serán utilizadas en futuros requerimientos (tutoriales y ejercicios) que lo encuentra [aqui](./Diccionario%20WWImporters.xlsx). Si tienen alguna duda relacionada con estas tablas deben incluirla en las preguntas o aclaraciones que le entreguen a la organización como parte del resultado de esta fase de entendimiento.\n",
    "\n",
    "En este punto de la consultorìa, nuestra responsabilidad es analizar las tabla movimientosCopia y nos comentan lo siguiente:\n",
    "\n",
    "- La cantidad máxima de productos movidos es 50 millones por transacción\n",
    "- Existen 236.668 movimientos de producto realizados desde 2013\n",
    "- Los movimientos están relacionados con 228.265 clientes\n",
    "- El formato de fechas manejado es YYYY-MM-DD HH:MM:SS\n",
    "- Actualmente tenemos 13 proveedores\n"
   ]
  },
  {
   "cell_type": "markdown",
   "metadata": {
    "id": "Xw96w3ywPn3R"
   },
   "source": [
    "### Conexión a fuente de datos y acceso a los datos"
   ]
  },
  {
   "cell_type": "markdown",
   "metadata": {
    "id": "LKHpN3nzPn3R"
   },
   "source": [
    "#### Conexión a fuente de datos\n",
    "A continuación encuentra las funciones para conectarse a la fuente de datos y retornar un dataframe que es el que se utilizará posteriormente para manipular los datos."
   ]
  },
  {
   "cell_type": "code",
   "execution_count": 14,
   "metadata": {
    "id": "SsdwInchPn3R"
   },
   "outputs": [],
   "source": [
    "def obtener_dataframe_de_bd(db_connection_string, sql, db_user, db_psswd):\n",
    "    df_bd = spark.read.format('jdbc')\\\n",
    "        .option('url', db_connection_string) \\\n",
    "        .option('dbtable', sql) \\\n",
    "        .option('user', db_user) \\\n",
    "        .option('password', db_psswd) \\\n",
    "        .option('driver', 'com.mysql.cj.jdbc.Driver') \\\n",
    "        .load()\n",
    "    return df_bd"
   ]
  },
  {
   "cell_type": "markdown",
   "metadata": {
    "id": "3HZloEq5Pn3S"
   },
   "source": [
    "#### Carga de datos\n",
    "Se cargan los datos para las tablas de Movimientos, Proveedores, Clientes y Productos"
   ]
  },
  {
   "cell_type": "code",
   "execution_count": 28,
   "metadata": {
    "id": "xMaQViPnPn3S"
   },
   "outputs": [],
   "source": [
    "sql_movimientos = 'WWImportersTransactional.movimientosCopia'"
   ]
  },
  {
   "cell_type": "code",
   "execution_count": 105,
   "metadata": {
    "id": "Ajy_XMshPn3T"
   },
   "outputs": [
    {
     "name": "stdout",
     "output_type": "stream",
     "text": [
      "+-----------------+---------------------+\n",
      "|TipoTransaccionID|TipoTransaccionNombre|\n",
      "+-----------------+---------------------+\n",
      "|                2| Customer Credit Note|\n",
      "|                3| Customer Payment ...|\n",
      "|                4|      Customer Refund|\n",
      "|                5|     Supplier Invoice|\n",
      "|                6| Supplier Credit Note|\n",
      "|                7| Supplier Payment ...|\n",
      "|                8|      Supplier Refund|\n",
      "|                9|       Stock Transfer|\n",
      "|               10|          Stock Issue|\n",
      "|               11|        Stock Receipt|\n",
      "|               12| Stock Adjustment ...|\n",
      "|               13|      Customer Contra|\n",
      "+-----------------+---------------------+\n",
      "\n"
     ]
    }
   ],
   "source": [
    "#Se cargan los dataframes desde la base de datos\n",
    "movimientos = obtener_dataframe_de_bd(db_connection_string, sql_movimientos, db_user, db_psswd)\n",
    "#obtener_dataframe_de_bd(db_connection_string, 'WWImportersTransactional.TiposTransaccion', db_user, db_psswd).show()"
   ]
  },
  {
   "cell_type": "markdown",
   "metadata": {
    "id": "qxN27II0Pn3T"
   },
   "source": [
    "### Entendimiento general de datos"
   ]
  },
  {
   "cell_type": "markdown",
   "metadata": {
    "id": "BMULJYE2Pn3T"
   },
   "source": [
    "Se visualiza en forma parcial la información de cada una de las tablas"
   ]
  },
  {
   "cell_type": "code",
   "execution_count": 21,
   "metadata": {
    "id": "HtrqSl0zPn3T",
    "outputId": "c20c03fc-68d4-4d2e-eb8f-91a06cdd3174"
   },
   "outputs": [
    {
     "name": "stdout",
     "output_type": "stream",
     "text": [
      "+---------------------+----------+-----------------+---------+---------+-----------+---------------+----------------+--------+\n",
      "|TransaccionProductoID|ProductoID|TipoTransaccionID|ClienteID|InvoiceID|ProveedorID|OrdenDeCompraID|FechaTransaccion|Cantidad|\n",
      "+---------------------+----------+-----------------+---------+---------+-----------+---------------+----------------+--------+\n",
      "|               118903|       217|               10|    476.0|  24904.0|           |               |     Apr 25,2014|   -40.0|\n",
      "|               286890|       135|               10|     33.0|  60117.0|           |               |     Dec 10,2015|    -7.0|\n",
      "|               285233|       111|               10|    180.0|  59768.0|           |               |     Dec 04,2015|    -2.0|\n",
      "|               290145|       213|               10|     33.0|  60795.0|           |               |     Dec 23,2015|    -3.0|\n",
      "|               247492|        90|               10|     55.0|  51851.0|           |               |     Jul 27,2015|   -24.0|\n",
      "+---------------------+----------+-----------------+---------+---------+-----------+---------------+----------------+--------+\n",
      "only showing top 5 rows\n",
      "\n"
     ]
    }
   ],
   "source": [
    "movimientos.show(5)"
   ]
  },
  {
   "cell_type": "markdown",
   "metadata": {
    "id": "Q_aZvenTPn3U"
   },
   "source": [
    "A continuación se muestran los esquemas del DataFrame"
   ]
  },
  {
   "cell_type": "code",
   "execution_count": 56,
   "metadata": {
    "id": "0bQrARjCPn3V",
    "outputId": "081c3dac-70e5-4d6f-c33e-051f7e688ec8"
   },
   "outputs": [
    {
     "data": {
      "text/plain": [
       "StructType(List(StructField(TransaccionProductoID,IntegerType,true),StructField(ProductoID,IntegerType,true),StructField(TipoTransaccionID,IntegerType,true),StructField(ClienteID,DoubleType,true),StructField(InvoiceID,DoubleType,true),StructField(ProveedorID,StringType,true),StructField(OrdenDeCompraID,StringType,true),StructField(FechaTransaccion,StringType,true),StructField(Cantidad,DoubleType,true)))"
      ]
     },
     "execution_count": 56,
     "metadata": {},
     "output_type": "execute_result"
    }
   ],
   "source": [
    "movimientos.schema"
   ]
  },
  {
   "cell_type": "markdown",
   "metadata": {},
   "source": [
    "Analizando el esquema de la tabla de movimientos, podemos encontrar que se encuentra información del producto, del proveedor, del cliente y de la orden de compra. Además se registra el tipo de transacción el identificador de factura la fecha de la transacción y la cantidad.\n",
    "\n",
    "El identificador de la transacción parece estar definido por el campo TransaccionProductoID pero por la nomenclatura, no está claro.\n",
    "\n",
    "Realizando una revisión rápida de los datos contenidos, se encuentra algunos aspectos a revizar en detalle más adelante como por ejemplo: cantidades negativas, y referencias vacías a proveedores y a ordenes, además . Por último, la fecha no parece seguir el formato indicado por el cliente. Identificador de proveedor y orden de compra de tipo caracter\n"
   ]
  },
  {
   "cell_type": "markdown",
   "metadata": {
    "id": "uw09BODdPn3V"
   },
   "source": [
    "A continuación, se imprimen las cantidades de registros y columans de la tabla:"
   ]
  },
  {
   "cell_type": "code",
   "execution_count": 106,
   "metadata": {
    "id": "g0Lvl535Pn3V",
    "outputId": "6fb3f30d-2179-4d50-ddd5-4880e28673d8"
   },
   "outputs": [
    {
     "name": "stdout",
     "output_type": "stream",
     "text": [
      "(204292, 9)\n"
     ]
    }
   ],
   "source": [
    "print((movimientos.count(), len(movimientos.columns)))"
   ]
  },
  {
   "cell_type": "markdown",
   "metadata": {
    "id": "kqwEyUFpPn3V"
   },
   "source": [
    "**¿Cuantos datos nos compartieron para el proyecto?**\n",
    "En total tenemos 204292 registros de movimientos y 9 variables a revisar de las cuales 3 son numéricas enteras asociadas a identificados, 3 de tipo numéricas flotantes asociadas a identificadores y campo cantidad y las demás son cadenas de caracteres asociadas a identificadores y campo fecha."
   ]
  },
  {
   "cell_type": "markdown",
   "metadata": {
    "id": "GnAScmClPn3W"
   },
   "source": [
    "### Revisión de reglas de negocio \n",
    "\n",
    "Primero se confirman las reglas proporcionadas por el negocio, La cantidad máxima de productos movidos es 50 millones por transacción. "
   ]
  },
  {
   "cell_type": "code",
   "execution_count": 51,
   "metadata": {
    "id": "ssjlV5xbPn3W",
    "outputId": "2ab69e67-fcc0-42c0-bf32-425d65c5118b"
   },
   "outputs": [
    {
     "name": "stdout",
     "output_type": "stream",
     "text": [
      "+-------------+\n",
      "|max(Cantidad)|\n",
      "+-------------+\n",
      "|      67368.0|\n",
      "+-------------+\n",
      "\n"
     ]
    }
   ],
   "source": [
    "movimientos.agg({\"Cantidad\": \"max\"}).show()"
   ]
  },
  {
   "cell_type": "markdown",
   "metadata": {
    "id": "55FLtckZPn3W"
   },
   "source": [
    "La máxima cantidad registrada para una transacción es de 67.368 por lo que la primera regla de negocio no es cierta.  "
   ]
  },
  {
   "cell_type": "markdown",
   "metadata": {
    "id": "rIrRLyudPn3W"
   },
   "source": [
    "La siguiente regla indica que existen 236.668 movimientos de productos registrados desde el 2013. Como la cantidad total de movimientos es de 204.292, tampoco se cumple."
   ]
  },
  {
   "cell_type": "markdown",
   "metadata": {
    "id": "FzPokPTyPn3W",
    "outputId": "d931d421-b755-496a-f77c-e04c616c7842"
   },
   "source": [
    "La siguiente regla indica que hay movimientos registrados con 228.265 cliente."
   ]
  },
  {
   "cell_type": "code",
   "execution_count": 52,
   "metadata": {
    "id": "yWq4-hOHPn3X",
    "outputId": "03b34472-ec29-47c9-c37a-33e9439e0eb2"
   },
   "outputs": [
    {
     "data": {
      "text/plain": [
       "664"
      ]
     },
     "execution_count": 52,
     "metadata": {},
     "output_type": "execute_result"
    }
   ],
   "source": [
    "movimientos.select(\"ClienteID\").distinct().count()"
   ]
  },
  {
   "cell_type": "markdown",
   "metadata": {
    "id": "1kH3BhCgPn3X"
   },
   "source": [
    "Como se puede observar, solo hay 664 clientes distintos en los movimientos registrados proporcionados por lo que tampoco se cumple esta regla"
   ]
  },
  {
   "cell_type": "code",
   "execution_count": null,
   "metadata": {
    "id": "MTV-XifxPn3X",
    "outputId": "6406990d-b30b-4e99-828a-bacbd587c951"
   },
   "outputs": [
    {
     "data": {
      "text/plain": [
       "57981"
      ]
     },
     "execution_count": 18,
     "metadata": {},
     "output_type": "execute_result"
    }
   ],
   "source": [
    "La siguiente regla indica que el formato de la fecha es de YYYY-MM-DD HH:MM:SS. Entonces para comprobarlo ejecutamos:"
   ]
  },
  {
   "cell_type": "code",
   "execution_count": 53,
   "metadata": {
    "id": "CxNL9EcuPn3Y"
   },
   "outputs": [
    {
     "name": "stdout",
     "output_type": "stream",
     "text": [
      "Número total de movimientos: 204292, número de movimientos con formato de fecha correcto: 140038\n"
     ]
    }
   ],
   "source": [
    "regex = \"[0-2]\\d{3}-(0[1-9]|1[0-2])-(0[1-9]|[1-2][0-9]|3[0-1])\"\n",
    "cumplenFormato = movimientos.filter(movimientos[\"FechaTransaccion\"].rlike(regex))\n",
    "print(\"Número total de movimientos: \"+str(movimientos.count())+\", número de movimientos con formato de fecha correcto: \"+str(cumplenFormato.count()))"
   ]
  },
  {
   "cell_type": "markdown",
   "metadata": {
    "id": "IwubJmKdPn3Y"
   },
   "source": [
    "Como se puede observar, del total solo hay 140038 registros qe cumplement con el formato, por lo que la regla solo se cumple para el 68.5% de los movimientos registrados"
   ]
  },
  {
   "cell_type": "markdown",
   "metadata": {
    "id": "8_WfDYLHPn3Y"
   },
   "source": [
    "Por último, se nos indica que hay 13 proveedores distintos. Al verificar con:"
   ]
  },
  {
   "cell_type": "code",
   "execution_count": 54,
   "metadata": {
    "id": "_KzyrNQ_Pn3Y",
    "outputId": "f9029802-04b2-4bd3-fb29-eb32c5dc175a"
   },
   "outputs": [
    {
     "data": {
      "text/plain": [
       "4"
      ]
     },
     "execution_count": 54,
     "metadata": {},
     "output_type": "execute_result"
    }
   ],
   "source": [
    "movimientos.select(\"ProveedorID\").distinct().count()"
   ]
  },
  {
   "cell_type": "markdown",
   "metadata": {
    "id": "JNAo5XdkPn3Y"
   },
   "source": [
    "Por lo que podría tomarse como válido ya que 4 es menor que el máximo que es 13."
   ]
  },
  {
   "cell_type": "markdown",
   "metadata": {
    "id": "eegq6VGqPn3Z"
   },
   "source": [
    "Por otro lado, si bien no es una regla del cliente, nos llama la atención la cantidad de tipos de datos distintos para representar las referencias a otras entidades. Entiendo que la organización debe ser notificada para unificar el criterio a aplicar y evitar errores en las relaciones entre entidades distintas. "
   ]
  },
  {
   "cell_type": "markdown",
   "metadata": {
    "id": "UuZspay3Pn3Z"
   },
   "source": [
    "### Análisis descriptivo\n",
    "Una vez cubierto lo básico de reglas de negocio, pasamos a perfilamiento estadístico. Para ver estadisticos generales como conteo, mínimo, máximo, desviación estandar y percentiles utilice summary()"
   ]
  },
  {
   "cell_type": "code",
   "execution_count": 59,
   "metadata": {
    "id": "TkWrIdDhPn3Z",
    "outputId": "7d37ef91-452e-49d9-8282-f1676c2b5ea9"
   },
   "outputs": [
    {
     "name": "stdout",
     "output_type": "stream",
     "text": [
      "+-------+---------------------+------------------+-------------------+------------------+-----------------+-----------------+------------------+--------------------+-----------------+\n",
      "|summary|TransaccionProductoID|        ProductoID|  TipoTransaccionID|         ClienteID|        InvoiceID|      ProveedorID|   OrdenDeCompraID|    FechaTransaccion|         Cantidad|\n",
      "+-------+---------------------+------------------+-------------------+------------------+-----------------+-----------------+------------------+--------------------+-----------------+\n",
      "|  count|               204292|            204292|             204292|            204292|           204292|           204292|            204292|              204292|           204292|\n",
      "|   mean|   212458.04047637695|110.70090850351458| 10.035253460732676| 517.3252941867523|42957.26929590978|4.951898734177215|1345.9973277074544|                null|719.4997650421946|\n",
      "| stddev|    71352.37579752573| 63.49014746219581|0.18563716955046372|353.50136995999276| 16826.9772221931|1.406311225432683|420.37740964792835|                null| 4729.36659747762|\n",
      "|    min|                89146|                 1|                 10|               0.0|              0.0|                 |                  |2013-12-31 07:00:...|           -360.0|\n",
      "|    25%|               150639|                56|                 10|             145.0|          30120.0|              4.0|             986.0|                null|            -60.0|\n",
      "|    50%|               212323|               110|                 10|             511.0|          43546.0|              4.0|            1347.0|                null|             -9.0|\n",
      "|    75%|               274216|               166|                 10|             877.0|          56983.0|              7.0|            1710.0|                null|             -5.0|\n",
      "|    max|               336251|               227|                 12|            1061.0|          70510.0|              7.0|             999.0|         Sep 30,2015|          67368.0|\n",
      "+-------+---------------------+------------------+-------------------+------------------+-----------------+-----------------+------------------+--------------------+-----------------+\n",
      "\n"
     ]
    }
   ],
   "source": [
    "movimientos.summary().show()"
   ]
  },
  {
   "cell_type": "markdown",
   "metadata": {
    "id": "0zEoTVtOPn3Z"
   },
   "source": [
    "En las estadísticas anteriores vemos que las cantidaes de registros son 204.292 como se mencionó anteriormente. La media y la desviación estandarsolo tiene sentido analizarla para el campo Cantidad que es de casi 719.5 y 4729.37 respectivamente. En cuanto al valor mínimo, las columnas ClienteID y ProveedoID tienen como valor mínimo 0.0 lo cuál es extraño ya que son identificadores de entidades. También aparecen registros de movimientos sin referencias a proveedores y ordenes de compra lo que puede indicar que no corresponde para la operación pero hay que verificar. El valor mínimo de cantidad es negativo lo cuál indica que hay operaciones de disminución de la cantidad del producto y la mayoría son de este tipo lo que se ratifica con que la mayoría del tipo de trasacción es de tipo 10. Con respecto al resto de los valores, solo destacar nuevamente la gran cantidad de registros con cantidades negativas y las diferencias entre el mínimo y máximo valor de los identificadores encontrados."
   ]
  },
  {
   "cell_type": "markdown",
   "metadata": {
    "id": "K5ZlLb22Pn3a"
   },
   "source": [
    "Para tener un análisis más detallado de la variable Cantidad, utilizaremos el  los siguiente diagrams de caja donde se observa claramente que tenemos un valor extremo en la variable cantidad y donde podemos ver los valores extremos o bigotes que determinan el punto de separación entre valores atípicos y normales, los valores atipicos, los cuartiles entre otros"
   ]
  },
  {
   "cell_type": "code",
   "execution_count": 60,
   "metadata": {
    "id": "dn8Ez79LPn3a",
    "outputId": "4fdf9370-9987-46a8-80c0-8b4c79655534"
   },
   "outputs": [
    {
     "data": {
      "text/plain": [
       "{'whiskers': [<matplotlib.lines.Line2D at 0x209a5dd86c8>,\n",
       "  <matplotlib.lines.Line2D at 0x209a561a248>],\n",
       " 'caps': [<matplotlib.lines.Line2D at 0x209a5624b08>,\n",
       "  <matplotlib.lines.Line2D at 0x209a8ea1bc8>],\n",
       " 'boxes': [<matplotlib.lines.Line2D at 0x209aafcc888>],\n",
       " 'medians': [<matplotlib.lines.Line2D at 0x209a8ea6208>],\n",
       " 'fliers': [<matplotlib.lines.Line2D at 0x209a8ea6848>],\n",
       " 'means': []}"
      ]
     },
     "execution_count": 60,
     "metadata": {},
     "output_type": "execute_result"
    },
    {
     "data": {
      "image/png": "[encoded data removed]",
      "text/plain": [
       "<Figure size 432x288 with 1 Axes>"
      ]
     },
     "metadata": {
      "needs_background": "light"
     },
     "output_type": "display_data"
    }
   ],
   "source": [
    "%matplotlib inline\n",
    "import matplotlib.pyplot as plt\n",
    "\n",
    "fig1, ax1 = plt.subplots()\n",
    "ax1.set_title('Cantidad')\n",
    "ax1.boxplot(np.array(movimientos.select('Cantidad').collect()))"
   ]
  },
  {
   "cell_type": "markdown",
   "metadata": {
    "id": "9bG1x9gWPn3b",
    "tags": []
   },
   "source": [
    "## Análisis de calidad de datos\n",
    "En este análisis se resalta:\n",
    "- Completitud: Datos que no existen o no se conocen\n",
    "- Unicidad (Duplicidad): Datos que son idénticos en diferentes registros o registros con valores idénticos en atributos en los que no debería ocurrir\n",
    "- Consistencia: Esta medida se define por la validez o integridad del dato, en la definición de su estructura, al interior de una fila o entre diferentes filas de la misma fuente o de diferentes fuentes. El manejo de unidades en los datos y el significado del dato son generadores de inconsistencias.\n",
    "- Validez: a nivel de formato y de sentido de los datos más alla de sus valores"
   ]
  },
  {
   "cell_type": "markdown",
   "metadata": {
    "id": "WKPFuI9uPn3b"
   },
   "source": [
    "A continuación se definen dos funciones, la primera cuenta los valores vacios por columna de dataframe, la segunda retorna un diccionario de columnas con cardinalidad superior al 50%"
   ]
  },
  {
   "cell_type": "markdown",
   "metadata": {
    "id": "ZHLs1H0hPn3b"
   },
   "source": [
    "### Unicidad y validez\n",
    "\n",
    "La unicidad la podemos verificar con: se revisó en la segunda regla de negocio."
   ]
  },
  {
   "cell_type": "code",
   "execution_count": 79,
   "metadata": {},
   "outputs": [
    {
     "data": {
      "text/plain": [
       "30633"
      ]
     },
     "execution_count": 79,
     "metadata": {},
     "output_type": "execute_result"
    }
   ],
   "source": [
    "movimientos.count() - movimientos.distinct().count()"
   ]
  },
  {
   "cell_type": "markdown",
   "metadata": {},
   "source": [
    "Donde encontramos que hay 30.633 registros duplicados, es decir casi un 15% de los registros.\n",
    "\n",
    "La validez se reviso en el perfilamiento general"
   ]
  },
  {
   "cell_type": "markdown",
   "metadata": {
    "id": "QgkzeSm4Pn3b"
   },
   "source": [
    "### Completitud y validez"
   ]
  },
  {
   "cell_type": "code",
   "execution_count": 81,
   "metadata": {
    "id": "mIWH-vVoPn3b"
   },
   "outputs": [],
   "source": [
    "def contar_vacios(df):\n",
    "    resultados = []\n",
    "    for c in df.columns:\n",
    "        vacios = df.filter(col(c).isNull()).count()\n",
    "        \n",
    "        if dict(df.dtypes)[c] == 'string':\n",
    "            vacios += df.filter((col(c).isNull()) | (col(c) == '')).count()\n",
    "            \n",
    "        if vacios!=0:\n",
    "            print('número de vacíos para columna '+c+': '+str( vacios ))\n",
    "            resultados.append(vacios)\n",
    "    return resultados\n",
    "\n",
    "def contar_negativos(df):\n",
    "    resultados = []\n",
    "    for c in df.columns:\n",
    "        dtype = dict(df.dtypes)[c]\n",
    "        if dtype in ['int', 'bigint', 'float', 'double', 'decimal']:\n",
    "            negativos = df.filter(col(c) < 0).count()\n",
    "            resultados.append((c, negativos))\n",
    "            print(f'Número de valores negativos en la columna \"{c}\": {negativos}')\n",
    "    return resultados\n",
    "\n",
    "def cardinalidad(df):\n",
    "    resultado = {}\n",
    "    for c in df.columns:\n",
    "        cardinalidad = df.select(col(c)).distinct().count()\n",
    "        if cardinalidad>=df.count()*0.5:\n",
    "            resultado[c] = cardinalidad\n",
    "    return resultado"
   ]
  },
  {
   "cell_type": "code",
   "execution_count": 76,
   "metadata": {
    "id": "da_z_ti-Pn3b",
    "outputId": "ecac9b39-d97a-422a-a579-698c5733ab7b"
   },
   "outputs": [
    {
     "name": "stdout",
     "output_type": "stream",
     "text": [
      "número de vacíos para columna ProveedorID: 197182\n",
      "número de vacíos para columna OrdenDeCompraID: 197182\n"
     ]
    },
    {
     "data": {
      "text/plain": [
       "[197182, 197182]"
      ]
     },
     "execution_count": 76,
     "metadata": {},
     "output_type": "execute_result"
    }
   ],
   "source": [
    "cv=contar_vacios(movimientos)"
   ]
  },
  {
   "cell_type": "code",
   "execution_count": 72,
   "metadata": {
    "id": "NxXQm_KEPn3c",
    "outputId": "419b9709-25fe-43dd-d63a-a9be645d11f7"
   },
   "outputs": [
    {
     "data": {
      "text/plain": [
       "{'TransaccionProductoID': 173659}"
      ]
     },
     "execution_count": 72,
     "metadata": {},
     "output_type": "execute_result"
    }
   ],
   "source": [
    "cardinalidad(movimientos)"
   ]
  },
  {
   "cell_type": "markdown",
   "metadata": {
    "id": "vDX10qmfPn3c"
   },
   "source": [
    "Como podemos observar para los movimientos registrados las columnas ProveedorID y OrdenDeCompraID tienen 197.182 registros vacíos lo que implica un 96.5% del total \n",
    "\n",
    "Respecto a cardinalidad, solo la columna TransaccionProductoID tiene una cardinalidad superior al 50%."
   ]
  },
  {
   "cell_type": "markdown",
   "metadata": {
    "id": "LZyQcqCvPn3c"
   },
   "source": [
    "### Consistencia\n",
    "A nivel de consistencia vamos a resaltar que la cantidad de valores negativos es consistente con la cantidad de operaciones de un mismo tipo encontrado en el análisis anterior."
   ]
  },
  {
   "cell_type": "code",
   "execution_count": 83,
   "metadata": {},
   "outputs": [
    {
     "name": "stdout",
     "output_type": "stream",
     "text": [
      "Número de valores negativos en la columna \"TransaccionProductoID\": 0\n",
      "Número de valores negativos en la columna \"ProductoID\": 0\n",
      "Número de valores negativos en la columna \"TipoTransaccionID\": 0\n",
      "Número de valores negativos en la columna \"ClienteID\": 0\n",
      "Número de valores negativos en la columna \"InvoiceID\": 0\n",
      "Número de valores negativos en la columna \"Cantidad\": 197158\n"
     ]
    }
   ],
   "source": [
    "n=contar_negativos(movimientos)"
   ]
  },
  {
   "cell_type": "code",
   "execution_count": null,
   "metadata": {},
   "outputs": [],
   "source": [
    "El resultado indica que para la variable cantidad el 96.5% de los valores son negativos y según el análisis anterior, la mayoría de las operaciones son del mismo tipo"
   ]
  },
  {
   "cell_type": "markdown",
   "metadata": {
    "id": "ct4KbukcPn3c"
   },
   "source": [
    "## Herramientas para facilitar el entendimiento de datos"
   ]
  },
  {
   "cell_type": "markdown",
   "metadata": {
    "id": "62jY4uoQPn3d"
   },
   "source": [
    "Para la generación de un reporte estadístico en HTML, utilizamos Pandas Profiling"
   ]
  },
  {
   "cell_type": "code",
   "execution_count": 77,
   "metadata": {
    "colab": {
     "referenced_widgets": [
      "18d36d8316d14fb2b1046fd12e844ae4",
      "2d029404a2994346918423391fc63c41",
      "0ab77442375c4f09ab98151e743deebc",
      "fec3309b395249d6ac3ecb39f2031344"
     ]
    },
    "id": "TlWywoCUPn3d",
    "outputId": "1a013e5c-269b-4099-a169-b2dd14182d8a"
   },
   "outputs": [
    {
     "name": "stderr",
     "output_type": "stream",
     "text": [
      "Summarize dataset:  60%|██████    | 12/20 [00:02<00:01,  6.87it/s, Calculate kendall correlation]         C:\\Users\\estudiante\\anaconda3\\envs\\Tutoriales\\lib\\site-packages\\scipy\\stats\\stats.py:4812: RuntimeWarning: overflow encountered in longlong_scalars\n",
      "  (2 * xtie * ytie) / m + x0 * y0 / (9 * m * (size - 2)))\n",
      "Summarize dataset: 100%|██████████| 47/47 [00:14<00:00,  3.21it/s, Completed]                                           \n",
      "Generate report structure: 100%|██████████| 1/1 [00:03<00:00,  3.32s/it]\n",
      "Render HTML: 100%|██████████| 1/1 [00:01<00:00,  1.39s/it]\n",
      "Export report to file: 100%|██████████| 1/1 [00:00<00:00, 81.20it/s]\n"
     ]
    }
   ],
   "source": [
    "reporte = ProfileReport(movimientos.toPandas())\n",
    "reporte.to_file(PATH+\"reporte_prefilamiento.html\")"
   ]
  },
  {
   "cell_type": "markdown",
   "metadata": {
    "id": "Ng5FqIGqPn3d"
   },
   "source": [
    "A modo de resumen, para cada sección del reporte encontramos:\n",
    "Seccion general del reporte:\n",
    "1. Tenemos 9 variables y 204.292 registros (es decir, movimientos), de las cuales 5 son numericas y 4 categoricas\n",
    "\n",
    "2. En los datos hay 0% de datos vacíos, (conclusión)\n",
    "\n",
    "3. El archivo ocupa en memoria 11.7 MB\n",
    "\n",
    "4. El 15% de los registros están duplicados\n",
    "\n",
    "Sección de variables del reporte:\n",
    "\n",
    "5. Un porcentaje de las variables ClienteID e InvoiceID tienen cero como valor lo cuál al ser referencias de otras entidades, no debería ser posible.\n",
    "\n",
    "6. La variable ProductoID, ClienteID, OrderDeCompraID y FechaTransaccion tienen muy pocos valores distintos lo que indica pocos cliente y proveedores, y los movimientos se refieren a pocas ordenes de compras distintas referidas a las mismas fechas.\n",
    "\n",
    "\n",
    "Sección de interacciones y correlaciones:\n",
    "7. La mayoria de las cantidades son negativas lo que coincide con que la mayoria de las transacciones son de tipo 10, lo cuál tiene sentido.La mayoria de las cantidades son negativas lo que coincide con que la mayoria de las transacciones son de tipo 10, lo cuál tiene sentido.\n"
   ]
  },
  {
   "cell_type": "markdown",
   "metadata": {
    "id": "kxj4KoVDPn3f"
   },
   "source": [
    "## Conclusiones/resultados"
   ]
  },
  {
   "cell_type": "markdown",
   "metadata": {
    "id": "snq4CGXQPn3f"
   },
   "source": [
    "#### **Conclusiones generales:**\n",
    "\n",
    "1. En la tabla de movimientos tenemos información relacionada con **n el producto, la cantidad movida, la fecha y otras entidades relevantes como clientes, proveedores y ordenes de comrpa**\n",
    "2. Una fila de movimiento representa un movimiento específico de un producto fruto de la ejecución de una determinada transacción.\n",
    "\n",
    "**Conclusiones de reglas de negocio:**\n",
    "\n",
    "1. La regla 1 no es cierta ya que la cantidad máxima de productos movidos es menor al número informado.\n",
    "\n",
    "2. La regla 2 no es cierta ya que la cantidad total de registros es de 204292, es decir, es menor al número informado. \n",
    "\n",
    "3. La regla 3 no es cierta ya que solo se encontraron 664 clientes distintos.\n",
    "\n",
    "4. Para la regla 4, más del 30% de los registros no cumplen con el formato de fecha establecido.\n",
    "\n",
    "5. La regla 5 es correcta ya que la cantidad de proveedores unicos es menor al número informado.\n",
    "\n",
    "**Conclusiones de calidad:**\n",
    "\n",
    "1. Hay un 15% de registros duplicados que hay que eliminar\n",
    "\n",
    "2. La mayoría de los registros no tienen datos de proveedor ni orden de compra lo que indica que quizas esas columnas no sean 100% necesarias\n",
    "\n",
    "3. La mayoría de las operaciones son del mismo tipo\n",
    "\n",
    "4. Se utilizan distintos tipos de datos para definir representar identificadores de entidades lo cuál hay que corregir.\n",
    "\n",
    "**Usando herramientas:**\n",
    "\n",
    "Seccion general del reporte:\n",
    "1. Tenemos 9 variables y 204.292 registros (es decir, movimientos), de las cuales 5 son numericas y 4 categoricas\n",
    "\n",
    "2. En los datos hay 0% de datos vacíos, (conclusión)\n",
    "\n",
    "3. El archivo ocupa en memoria 11.7 MB\n",
    "\n",
    "4. El 15% de los registros están duplicados\n",
    "\n",
    "Sección de variables del reporte:\n",
    "\n",
    "5. Un porcentaje de las variables ClienteID e InvoiceID tienen cero como valor lo cuál al ser referencias de otras entidades, no debería ser posible.\n",
    "\n",
    "6. La variable ProductoID, ClienteID, OrderDeCompraID y FechaTransaccion tienen muy pocos valores distintos lo que indica pocos cliente y proveedores, y los movimientos se refieren a pocas ordenes de compras distintas referidas a las mismas fechas.\n",
    "\n",
    "7. La mayoria de las cantidades son negativas lo que coincide con que la mayoria de las transacciones son de tipo 10, lo cuál tiene sentido.5. Un porcentaje de las variables ClienteID e InvoiceID tienen cero como valor lo cuál al ser referencias de otras entidades, no debería ser posible.\n",
    "\n",
    "6. La variable ProductoID, ClienteID, OrderDeCompraID y FechaTransaccion tienen muy pocos valores distintos lo que indica pocos cliente y proveedores, y los movimientos se refieren a pocas ordenes de compras distintas referidas a las mismas fechas.\n",
    "\n",
    "Sección de correlación:\n",
    "\n",
    "7. La mayoria de las cantidades son negativas lo que coincide con que la mayoria de las transacciones son de tipo 10, lo cuál tiene sentido.La mayoria de las cantidades son negativas lo que coincide con que la mayoria de las transacciones son de tipo 10, lo cuál tiene sentido.\n",
    "\n",
    "\n",
    "**Conclusiones de consultoria**\n",
    "\n",
    "![Requerimiento](./Requerimiento.PNG)\n",
    "\n",
    "Teniendo en cuenta el requerimiento de WWI, consideramos que es posible llevar a cabo una solucióon pues contamos con la información necesaria especificada en el análisis requerido, sin embargo es necesario realizar correcciones a los datos y obtener aclaraciones de parte del negocio para entender completamente la necesidad de negocio"
   ]
  }
 ],
 "metadata": {
  "colab": {
   "collapsed_sections": [
    "qxN27II0Pn3T",
    "GnAScmClPn3W",
    "UuZspay3Pn3Z",
    "ZHLs1H0hPn3b",
    "QgkzeSm4Pn3b",
    "LZyQcqCvPn3c",
    "eDf54JyKPn3d",
    "ltTluhtIPn3e",
    "IPhtXcD1Pn3g",
    "-axExLnhPn3g",
    "YfSMeXZQPn3g"
   ],
   "name": "MISW-ETL-Entendimiento.ipynb",
   "provenance": []
  },
  "kernelspec": {
   "display_name": "Python 3 (ipykernel)",
   "language": "python",
   "name": "python3"
  },
  "language_info": {
   "codemirror_mode": {
    "name": "ipython",
    "version": 3
   },
   "file_extension": ".py",
   "mimetype": "text/x-python",
   "name": "python",
   "nbconvert_exporter": "python",
   "pygments_lexer": "ipython3",
   "version": "3.7.13"
  },
  "toc-autonumbering": true,
  "toc-showcode": true
 },
 "nbformat": 4,
 "nbformat_minor": 4
}
